{
 "cells": [
  {
   "cell_type": "code",
   "execution_count": null,
   "metadata": {},
   "outputs": [],
   "source": [
    "import numpy as np"
   ]
  },
  {
   "cell_type": "code",
   "execution_count": 5,
   "metadata": {},
   "outputs": [],
   "source": [
    "left_list  = []\n",
    "right_list = []\n",
    "\n",
    "with open(\"input.txt\", \"r\") as f:\n",
    "    for line in f:\n",
    "        num = line.split()\n",
    "        left_list.append(int(num[0]))\n",
    "        right_list.append(int(num[1]))\n",
    "        "
   ]
  },
  {
   "cell_type": "code",
   "execution_count": null,
   "metadata": {},
   "outputs": [
    {
     "name": "stdout",
     "output_type": "stream",
     "text": [
      "1938424\n"
     ]
    }
   ],
   "source": [
    "# part 1\n",
    "\n",
    "left_list = np.sort(left_list)\n",
    "right_list = np.sort(right_list)\n",
    "distance = np.abs(left_list - right_list)\n",
    "sum_distance = np.sum(distance)\n",
    "print(sum_distance)\n"
   ]
  },
  {
   "cell_type": "code",
   "execution_count": null,
   "metadata": {},
   "outputs": [
    {
     "name": "stdout",
     "output_type": "stream",
     "text": [
      "22014209\n"
     ]
    }
   ],
   "source": [
    "# part 2\n",
    "\n",
    "sum = 0\n",
    "for num in left_list:\n",
    "    occurences = (np.where(right_list == num))[0].shape[0]    \n",
    "    sum += (num * occurences)\n",
    "\n",
    "print(sum)\n",
    "    "
   ]
  }
 ],
 "metadata": {
  "kernelspec": {
   "display_name": ".venv",
   "language": "python",
   "name": "python3"
  },
  "language_info": {
   "codemirror_mode": {
    "name": "ipython",
    "version": 3
   },
   "file_extension": ".py",
   "mimetype": "text/x-python",
   "name": "python",
   "nbconvert_exporter": "python",
   "pygments_lexer": "ipython3",
   "version": "3.11.9"
  }
 },
 "nbformat": 4,
 "nbformat_minor": 2
}
