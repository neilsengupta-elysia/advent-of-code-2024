{
 "cells": [
  {
   "cell_type": "code",
   "execution_count": 4,
   "metadata": {},
   "outputs": [],
   "source": [
    "import numpy as np\n",
    "import time\n",
    "import matplotlib.pyplot as plt\n",
    "\n",
    "input_list = list()\n",
    "\n",
    "with open(\"input.txt\", \"r\") as f:\n",
    "    for line in f:\n",
    "        input_list.append(line.rstrip())"
   ]
  },
  {
   "cell_type": "code",
   "execution_count": 2,
   "metadata": {},
   "outputs": [],
   "source": [
    "def get_calibration_sum(input:list):\n",
    "\n",
    "    validnumbers = \"0123456789\"\n",
    "\n",
    "    calibration_list = []\n",
    "\n",
    "    for line in input:\n",
    "        reversedline = line[::-1]\n",
    "        check_first = True\n",
    "        check_last  = True\n",
    "        first_val = \"\"\n",
    "        last_val  = \"\"\n",
    "        for cf, ce in zip(line, reversedline):\n",
    "            \n",
    "            if (not check_first) and (not check_last):\n",
    "                break\n",
    "            \n",
    "            if check_first:\n",
    "                if cf in validnumbers:\n",
    "                    first_val = cf\n",
    "                    check_first = False\n",
    "            \n",
    "            if check_last:\n",
    "                if ce in validnumbers:\n",
    "                    last_val = ce\n",
    "                    check_last = False\n",
    "        calib_num = int(first_val + last_val)\n",
    "        calibration_list.append(calib_num)\n",
    "    \n",
    "    return np.sum(calibration_list)"
   ]
  },
  {
   "cell_type": "code",
   "execution_count": 3,
   "metadata": {},
   "outputs": [
    {
     "data": {
      "text/plain": [
       "np.int64(55607)"
      ]
     },
     "execution_count": 3,
     "metadata": {},
     "output_type": "execute_result"
    }
   ],
   "source": [
    "get_calibration_sum(input_list)"
   ]
  },
  {
   "cell_type": "code",
   "execution_count": 14,
   "metadata": {},
   "outputs": [
    {
     "name": "stdout",
     "output_type": "stream",
     "text": [
      "55291\n"
     ]
    }
   ],
   "source": [
    "## part 2\n",
    "\n",
    "word_to_number_dict = {\n",
    "    \"one\":1,\n",
    "    \"two\":2,\n",
    "    \"three\":3,\n",
    "    \"four\":4,\n",
    "    \"five\":5,\n",
    "    \"six\":6,\n",
    "    \"seven\":7,\n",
    "    \"eight\":8,\n",
    "    \"nine\":9\n",
    "}\n",
    "validnumbers = \"0123456789\"\n",
    "\n",
    "#test_input = [\"two1nine\",\"eightwothree\",\"abcone2threexyz\",\"xtwone3four\",\"4nineeightseven2\",\"zoneight234\",\"7pqrstsixteen\"]\n",
    "\n",
    "sum_of_combos = 0\n",
    "for line in input_list:\n",
    "    c = 0\n",
    "    eol = len(line)\n",
    "    xc = 1\n",
    "    \n",
    "    numbers_list = []\n",
    "    \n",
    "    while c < (eol):\n",
    "        ss = line[c:xc]\n",
    "        if len(ss) == 1:\n",
    "            if ss in validnumbers:\n",
    "                numbers_list.append(ss)        \n",
    "        if ss in word_to_number_dict:\n",
    "            numbers_list.append(f\"{word_to_number_dict[ss]}\")\n",
    "            c += 1\n",
    "            xc = 0\n",
    "        else:\n",
    "            if xc == (eol):\n",
    "                c += 1\n",
    "                xc = 0\n",
    "            else:\n",
    "                xc += 1\n",
    "    \n",
    "    combo_string = int(numbers_list[0] + numbers_list[-1])\n",
    "    sum_of_combos += combo_string\n",
    "\n",
    "print(sum_of_combos)\n",
    "\n",
    "            \n",
    "        \n",
    "        \n"
   ]
  }
 ],
 "metadata": {
  "kernelspec": {
   "display_name": ".venv",
   "language": "python",
   "name": "python3"
  },
  "language_info": {
   "codemirror_mode": {
    "name": "ipython",
    "version": 3
   },
   "file_extension": ".py",
   "mimetype": "text/x-python",
   "name": "python",
   "nbconvert_exporter": "python",
   "pygments_lexer": "ipython3",
   "version": "3.11.9"
  }
 },
 "nbformat": 4,
 "nbformat_minor": 2
}
