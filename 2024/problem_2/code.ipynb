{
 "cells": [
  {
   "cell_type": "code",
   "execution_count": 1,
   "metadata": {},
   "outputs": [],
   "source": [
    "import numpy as np"
   ]
  },
  {
   "cell_type": "code",
   "execution_count": 2,
   "metadata": {},
   "outputs": [],
   "source": [
    "list_of_levels = []\n",
    "\n",
    "with open(\"input.txt\", \"r\") as f:\n",
    "    for line in f:\n",
    "        nums = line.split()\n",
    "        nums = [int(item) for item in nums]\n",
    "        list_of_levels.append(nums)      "
   ]
  },
  {
   "cell_type": "markdown",
   "metadata": {},
   "source": [
    "### rules\n",
    "\n",
    "> monotonic increase/decrease\n",
    "\n",
    "\n",
    "> gradient no higher than 3\n"
   ]
  },
  {
   "cell_type": "code",
   "execution_count": 3,
   "metadata": {},
   "outputs": [
    {
     "name": "stdout",
     "output_type": "stream",
     "text": [
      "220\n"
     ]
    }
   ],
   "source": [
    "# part 1\n",
    "\n",
    "checker = lambda gti : (((np.all(gti > 0)) or (np.all(gti < 0))) and (np.all(np.abs(gti) <= 3)))\n",
    "\n",
    "num_safe_list = 0\n",
    "for item in list_of_levels:\n",
    "    gti = np.diff(item)\n",
    "    if checker(gti):\n",
    "        num_safe_list += 1\n",
    "    else:        \n",
    "        pass\n",
    "\n",
    "print(num_safe_list)"
   ]
  },
  {
   "cell_type": "code",
   "execution_count": 4,
   "metadata": {},
   "outputs": [
    {
     "name": "stdout",
     "output_type": "stream",
     "text": [
      "296\n"
     ]
    }
   ],
   "source": [
    "# part 2\n",
    "\n",
    "checker = lambda gti : (((np.all(gti > 0)) or (np.all(gti < 0))) and (np.all(np.abs(gti) <= 3)))\n",
    "\n",
    "num_safe_list = 0\n",
    "for item in list_of_levels:\n",
    "    gti = np.diff(item)\n",
    "    if checker(gti):\n",
    "        num_safe_list += 1\n",
    "    else:        \n",
    "        for xi in range(len(item)):\n",
    "            newlist = np.delete(np.array(item), xi)\n",
    "            newgti  = np.diff(newlist)\n",
    "            passcheck = checker(newgti)\n",
    "            if passcheck:\n",
    "                num_safe_list += 1\n",
    "                break\n",
    "            \n",
    "print(num_safe_list)"
   ]
  }
 ],
 "metadata": {
  "kernelspec": {
   "display_name": ".venv",
   "language": "python",
   "name": "python3"
  },
  "language_info": {
   "codemirror_mode": {
    "name": "ipython",
    "version": 3
   },
   "file_extension": ".py",
   "mimetype": "text/x-python",
   "name": "python",
   "nbconvert_exporter": "python",
   "pygments_lexer": "ipython3",
   "version": "3.11.9"
  }
 },
 "nbformat": 4,
 "nbformat_minor": 2
}
