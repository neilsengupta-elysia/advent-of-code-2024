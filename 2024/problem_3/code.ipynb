{
 "cells": [
  {
   "cell_type": "code",
   "execution_count": 1,
   "metadata": {},
   "outputs": [],
   "source": [
    "import numpy as np\n",
    "import time"
   ]
  },
  {
   "cell_type": "code",
   "execution_count": 2,
   "metadata": {},
   "outputs": [
    {
     "name": "stdout",
     "output_type": "stream",
     "text": [
      "18705\n"
     ]
    }
   ],
   "source": [
    "data = \"\"\n",
    "with open(\"input.txt\", \"r\") as f:\n",
    "   for line in f:      \n",
    "      data += line\n",
    "\n",
    "data = \"start: don't()__do()\" + data + \"don't() : end\"\n",
    "\n",
    "print(len(data))"
   ]
  },
  {
   "cell_type": "code",
   "execution_count": 5,
   "metadata": {},
   "outputs": [
    {
     "name": "stdout",
     "output_type": "stream",
     "text": [
      "time elapsed = 0.002089\n",
      "153469856\n"
     ]
    }
   ],
   "source": [
    "# part 1\n",
    "\n",
    "ss = time.time()\n",
    "\n",
    "start = 0\n",
    "indexes = []\n",
    "\n",
    "indf = 0\n",
    "\n",
    "sum_of_products = 0\n",
    "\n",
    "valid_nums = \"0123456789\"\n",
    "while not (indf == -1):\n",
    "    indf = data.find(\"mul(\",(indf + 1))\n",
    "    if not (indf == -1):\n",
    "        end_search_in = min((indf+12), (len(data)))\n",
    "        subs = data[(indf+4):end_search_in]        \n",
    "        if (subs[0] in valid_nums):\n",
    "            nums = subs.split(\",\", maxsplit=1)   \n",
    "            if len(nums) == 2:         \n",
    "                nums[0] = nums[0].strip()\n",
    "                nums[1] = nums[1].strip()\n",
    "                if (len(nums[1]) > 0) and (nums[1][0] in valid_nums):\n",
    "                    stringnum = \"\"\n",
    "                    discard   = True\n",
    "                    for char in nums[1]:                        \n",
    "                        if char in valid_nums:\n",
    "                            stringnum += char\n",
    "                        elif char == \")\":\n",
    "                            discard = False\n",
    "                            break\n",
    "                        else:\n",
    "                            break\n",
    "                    if not discard:\n",
    "                        n1 = int(nums[0])\n",
    "                        n2 = int(stringnum) \n",
    "                        sum_of_products += (n1 * n2)\n",
    "\n",
    "se = time.time()\n",
    "\n",
    "dur = se - ss\n",
    "\n",
    "print(f\"time elapsed = {np.round(dur, 6)}\")\n",
    "\n",
    "print(sum_of_products)\n"
   ]
  },
  {
   "cell_type": "code",
   "execution_count": 7,
   "metadata": {},
   "outputs": [
    {
     "name": "stdout",
     "output_type": "stream",
     "text": [
      "time elapsed = 0.005663\n",
      "77055967\n",
      "331\n"
     ]
    }
   ],
   "source": [
    "# part 2 \n",
    "ss = time.time()\n",
    "# find all do and don't\n",
    "\n",
    "indexes_of_dos = []\n",
    "\n",
    "indf = 0\n",
    "\n",
    "while not (indf == -1):\n",
    "    indf = data.find(\"do()\",(indf + 1))\n",
    "    if not (indf == -1):\n",
    "        indexes_of_dos.append(indf)\n",
    "        \n",
    "indexes_of_donts = []\n",
    "\n",
    "indf = 0\n",
    "\n",
    "while not (indf == -1):\n",
    "    indf = data.find(\"don't()\",(indf + 1))\n",
    "    if not (indf == -1):\n",
    "        indexes_of_donts.append(indf)\n",
    "        \n",
    "indexes_of_dos = np.array(indexes_of_dos)\n",
    "indexes_of_donts = np.array(indexes_of_donts)\n",
    "\n",
    "\n",
    "\n",
    "indexes = []\n",
    "indf = 0\n",
    "sum_of_products = 0\n",
    "\n",
    "list_of_nums_v2 = []\n",
    "# valid sequence = mul(xxx,xxx) 4, 12 including brackets\n",
    "\n",
    "valid_nums = \"0123456789\"\n",
    "while not (indf == -1):\n",
    "    indf = data.find(\"mul(\",(indf + 1))    \n",
    "    \n",
    "    if not (indf == -1):\n",
    "                \n",
    "        do_value   = (np.sort(indexes_of_dos[indexes_of_dos < indf]))[-1]\n",
    "        dont_value = (np.sort(indexes_of_donts[indexes_of_donts < indf]))[-1]\n",
    "        \n",
    "        if dont_value > do_value:\n",
    "            continue    \n",
    "        \n",
    "        end_search_in = min((indf+12), (len(data)))\n",
    "        subs = data[(indf+4):end_search_in]        \n",
    "        if (subs[0] in valid_nums):\n",
    "            nums = subs.split(\",\", maxsplit=1)   \n",
    "            if len(nums) == 2:         \n",
    "                nums[0] = nums[0].strip()\n",
    "                nums[1] = nums[1].strip()\n",
    "                if (len(nums[1]) > 0) and (nums[1][0] in valid_nums):\n",
    "                    stringnum = \"\"\n",
    "                    discard   = True\n",
    "                    for char in nums[1]:                        \n",
    "                        if char in valid_nums:\n",
    "                            stringnum += char\n",
    "                        elif char == \")\":\n",
    "                            discard = False\n",
    "                            break\n",
    "                        else:\n",
    "                            break\n",
    "                    if not discard:\n",
    "                        n1 = int(nums[0])\n",
    "                        n2 = int(stringnum)\n",
    "                        list_of_nums_v2.append((n1, n2))\n",
    "                        #print(n1, n2)\n",
    "                        product = n1 * n2 \n",
    "                        sum_of_products += product \n",
    "\n",
    "se = time.time()\n",
    "\n",
    "dur = se - ss\n",
    "\n",
    "print(f\"time elapsed = {np.round(dur, 6)}\")\n",
    "print(sum_of_products)\n",
    "print(len(list_of_nums_v2))\n"
   ]
  }
 ],
 "metadata": {
  "kernelspec": {
   "display_name": ".venv",
   "language": "python",
   "name": "python3"
  },
  "language_info": {
   "codemirror_mode": {
    "name": "ipython",
    "version": 3
   },
   "file_extension": ".py",
   "mimetype": "text/x-python",
   "name": "python",
   "nbconvert_exporter": "python",
   "pygments_lexer": "ipython3",
   "version": "3.11.9"
  }
 },
 "nbformat": 4,
 "nbformat_minor": 2
}
