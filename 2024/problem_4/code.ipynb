{
 "cells": [
  {
   "cell_type": "code",
   "execution_count": 1,
   "metadata": {},
   "outputs": [],
   "source": [
    "import numpy as np\n",
    "import time"
   ]
  },
  {
   "cell_type": "code",
   "execution_count": 2,
   "metadata": {},
   "outputs": [
    {
     "name": "stdout",
     "output_type": "stream",
     "text": [
      "(140, 140)\n"
     ]
    }
   ],
   "source": [
    "data = []\n",
    "with open(\"input.txt\", \"r\") as f:\n",
    "   for line in f:      \n",
    "      data.append(line.strip())\n",
    "data = np.array([list(s) for s in data])\n",
    "print(data.shape)\n"
   ]
  },
  {
   "cell_type": "code",
   "execution_count": null,
   "metadata": {},
   "outputs": [],
   "source": [
    "ex_data = [\"MMMSXXMASM\",\n",
    "           \"MSAMXMSMSA\",\n",
    "           \"AMXSXMAAMM\",\n",
    "           \"MSAMASMSMX\",\n",
    "           \"XMASAMXAMM\",\n",
    "           \"XXAMMXXAMA\",\n",
    "           \"SMSMSASXSS\",\n",
    "           \"SAXAMASAAA\",\n",
    "           \"MAMMMXMMMM\",\n",
    "           \"MXMXAXMASX\",]\n",
    "\n",
    "ex_data = np.array([list(s) for s in ex_data])"
   ]
  },
  {
   "cell_type": "markdown",
   "metadata": {},
   "source": [
    "## part 1"
   ]
  },
  {
   "cell_type": "code",
   "execution_count": 7,
   "metadata": {},
   "outputs": [
    {
     "name": "stdout",
     "output_type": "stream",
     "text": [
      "2654\n"
     ]
    }
   ],
   "source": [
    "# instances of the letter \"X\"\n",
    "\n",
    "# data = ex_data\n",
    "ex_data = data\n",
    "x_locs = np.where(ex_data == \"X\")\n",
    "\n",
    "# for each x location check left, right, top, bottom\n",
    "\n",
    "valid_word = \"XMAS\"\n",
    "\n",
    "counter = 0\n",
    "\n",
    "max_length = len(data[0]) - 1\n",
    "\n",
    "for xind, yind in zip(x_locs[0], x_locs[1]):\n",
    "    \n",
    "    right_word = \"\".join(ex_data[xind, yind:(yind+4)])\n",
    "    left_word  = (\"\".join(ex_data[xind, (yind - 3):(yind + 1)]))[::-1]\n",
    "    top_word   = (\"\".join(ex_data[(xind-3):(xind+1), yind]))[::-1]\n",
    "    bot_word   = \"\".join(ex_data[xind:(xind+4), yind])\n",
    "    \n",
    "    td_x = np.array([xind - 1, xind - 2, xind - 3])\n",
    "    td_y = np.array([yind - 1, yind - 2, yind - 3])\n",
    "    bd_x = np.array([xind + 1, xind + 2, xind + 3])\n",
    "    bd_y = np.array([yind + 1, yind + 2, yind + 3])\n",
    "    \n",
    "    if (np.all((td_x >= 0) & (td_x <= max_length))) and (np.all((td_y >= 0) & (td_y <= max_length))):\n",
    "        diag_nw = \"\".join([ex_data[xind, yind], ex_data[td_x[0], td_y[0]], ex_data[td_x[1], td_y[1]], ex_data[td_x[2], td_y[2]]])\n",
    "    else:\n",
    "        diag_nw = \"CANT\"\n",
    "    if (np.all((td_x >= 0) & (td_x <= max_length))) and (np.all((bd_y >= 0) & (bd_y <= max_length))):\n",
    "        diag_ne = \"\".join([ex_data[xind, yind], ex_data[td_x[0], bd_y[0]], ex_data[td_x[1], bd_y[1]], ex_data[td_x[2], bd_y[2]]])\n",
    "    else:\n",
    "        diag_ne = \"CANT\"\n",
    "    if (np.all((bd_x >= 0) & (bd_x <= max_length))) and (np.all((td_y >= 0) & (td_y <= max_length))):\n",
    "        diag_sw = \"\".join([ex_data[xind, yind], ex_data[bd_x[0], td_y[0]], ex_data[bd_x[1], td_y[1]], ex_data[bd_x[2], td_y[2]]])\n",
    "    else:\n",
    "        diag_sw = \"CANT\"\n",
    "    if (np.all((bd_x >= 0) & (bd_x <= max_length))) and (np.all((bd_y >= 0) & (bd_y <= max_length))):\n",
    "        diag_se = \"\".join([ex_data[xind, yind], ex_data[bd_x[0], bd_y[0]], ex_data[bd_x[1], bd_y[1]], ex_data[bd_x[2], bd_y[2]]])    \n",
    "    else:\n",
    "        diag_se = \"CANT\"\n",
    "    \n",
    "    counter += left_word  == valid_word\n",
    "    counter += right_word == valid_word\n",
    "    counter += top_word   == valid_word\n",
    "    counter += bot_word   == valid_word\n",
    "    counter += diag_nw    == valid_word\n",
    "    counter += diag_ne    == valid_word\n",
    "    counter += diag_sw    == valid_word\n",
    "    counter += diag_se    == valid_word \n",
    "    \n",
    "print(counter)\n",
    "    \n",
    "    "
   ]
  },
  {
   "cell_type": "markdown",
   "metadata": {},
   "source": [
    "## part 2"
   ]
  },
  {
   "cell_type": "code",
   "execution_count": 8,
   "metadata": {},
   "outputs": [
    {
     "name": "stdout",
     "output_type": "stream",
     "text": [
      "1990\n"
     ]
    }
   ],
   "source": [
    "ex_data = data\n",
    "x_locs = np.where(ex_data == \"A\")\n",
    "max_length = len(ex_data[0])\n",
    "counter = 0\n",
    "\n",
    "for xind, yind in zip(x_locs[0], x_locs[1]):     \n",
    "    if (0 < xind < (max_length - 1)) and (0< yind < (max_length - 1)):         \n",
    "        left_cross  = ex_data[xind - 1, yind - 1] + \"A\" + ex_data[xind + 1, yind + 1] \n",
    "        right_cross = ex_data[xind + 1, yind - 1] + \"A\" + ex_data[xind - 1, yind + 1]    \n",
    "        if (left_cross == \"MAS\" or left_cross == \"SAM\") and (right_cross == \"MAS\" or right_cross == \"SAM\"):\n",
    "            counter += 1\n",
    "                        \n",
    "print(counter)\n",
    "        "
   ]
  }
 ],
 "metadata": {
  "kernelspec": {
   "display_name": ".venv",
   "language": "python",
   "name": "python3"
  },
  "language_info": {
   "codemirror_mode": {
    "name": "ipython",
    "version": 3
   },
   "file_extension": ".py",
   "mimetype": "text/x-python",
   "name": "python",
   "nbconvert_exporter": "python",
   "pygments_lexer": "ipython3",
   "version": "3.11.9"
  }
 },
 "nbformat": 4,
 "nbformat_minor": 2
}
