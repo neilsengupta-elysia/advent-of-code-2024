{
 "cells": [
  {
   "cell_type": "code",
   "execution_count": 8,
   "metadata": {},
   "outputs": [],
   "source": [
    "import numpy as np\n",
    "import time\n",
    "import matplotlib.pyplot as plt\n",
    "from tqdm import tqdm \n",
    "import random \n",
    "\n",
    "input_list = list()\n",
    "\n",
    "with open(\"input.txt\", \"r\") as f:\n",
    "    for line in f:\n",
    "        input_list.append(line.rstrip())\n"
   ]
  },
  {
   "cell_type": "code",
   "execution_count": 9,
   "metadata": {},
   "outputs": [
    {
     "data": {
      "text/plain": [
       "['Game 42: 5 red, 3 green, 6 blue; 4 blue, 6 green, 2 red; 10 blue; 3 red, 6 green, 10 blue',\n",
       " 'Game 73: 9 green, 2 red; 1 blue, 3 green; 1 blue, 1 red, 7 green; 2 blue, 9 green, 4 red; 2 blue, 3 red, 8 green; 2 green, 9 red',\n",
       " 'Game 47: 8 green, 13 red; 8 green, 8 red, 4 blue; 10 red, 3 green; 14 red, 5 green, 8 blue; 7 green, 19 red, 3 blue; 2 red, 5 green, 5 blue',\n",
       " 'Game 34: 2 green, 3 blue, 3 red; 4 red; 2 red, 2 blue',\n",
       " 'Game 40: 2 green, 2 blue, 4 red; 3 blue, 16 green; 1 green, 2 blue; 1 red; 3 blue, 15 green; 13 green, 1 red, 2 blue',\n",
       " 'Game 48: 7 green, 9 blue, 3 red; 7 blue, 1 green, 9 red; 7 green, 4 red, 1 blue; 6 green, 3 red, 1 blue']"
      ]
     },
     "execution_count": 9,
     "metadata": {},
     "output_type": "execute_result"
    }
   ],
   "source": [
    "test_list = random.sample(input_list, 6)\n",
    "test_list"
   ]
  },
  {
   "cell_type": "code",
   "execution_count": 27,
   "metadata": {},
   "outputs": [
    {
     "name": "stderr",
     "output_type": "stream",
     "text": [
      "100%|██████████| 100/100 [00:00<00:00, 131112.97it/s]"
     ]
    },
    {
     "name": "stdout",
     "output_type": "stream",
     "text": [
      "2683\n"
     ]
    },
    {
     "name": "stderr",
     "output_type": "stream",
     "text": [
      "\n"
     ]
    }
   ],
   "source": [
    "## part 1\n",
    "\n",
    "# 12 red cubes, 13 green cubes, and 14 blue cubes\n",
    "\n",
    "sum_ids = 0\n",
    "\n",
    "for line in tqdm(input_list):\n",
    "    gameid = -99\n",
    "    game_id, sections = line.split(\":\")\n",
    "    gameid = int(game_id.split()[1])\n",
    "    sections = sections.split(\";\")\n",
    "    take_id = True\n",
    "    \n",
    "   \n",
    "    \n",
    "    for sec in sections:\n",
    "        col_dict = {\"red\": 0, \"blue\":0, \"green\":0}\n",
    "        ballcounts = sec.split(\",\")\n",
    "        ballcounts = [ii.strip() for ii in ballcounts]        \n",
    "        for ballcount in ballcounts:\n",
    "            number, color = ballcount.split()\n",
    "            col_dict[color] = int(number)\n",
    "          \n",
    "            \n",
    "        if (col_dict[\"red\"] > 12) or (col_dict[\"green\"] > 13) or (col_dict[\"blue\"] > 14):     \n",
    "            #print(f\"ID {gameid} is a bad_game\")       \n",
    "            take_id = False\n",
    "            break    \n",
    "    if take_id:\n",
    "        sum_ids += gameid\n",
    "print(sum_ids)\n",
    "            \n",
    "    \n",
    "\n"
   ]
  },
  {
   "cell_type": "code",
   "execution_count": 28,
   "metadata": {},
   "outputs": [
    {
     "name": "stderr",
     "output_type": "stream",
     "text": [
      "100%|██████████| 100/100 [00:00<00:00, 86409.23it/s]"
     ]
    },
    {
     "name": "stdout",
     "output_type": "stream",
     "text": [
      "49710\n"
     ]
    },
    {
     "name": "stderr",
     "output_type": "stream",
     "text": [
      "\n"
     ]
    }
   ],
   "source": [
    "# part 2\n",
    "\n",
    "sum_ids = 0\n",
    "\n",
    "for line in tqdm(input_list):\n",
    "    gameid = -99\n",
    "    game_id, sections = line.split(\":\")\n",
    "    gameid = int(game_id.split()[1])\n",
    "    sections = sections.split(\";\")\n",
    "    take_id = True\n",
    "    \n",
    "    minimums = {\"red\": 0, \"blue\":0, \"green\":0}\n",
    "    \n",
    "    for sec in sections:\n",
    "        col_dict = {\"red\": 0, \"blue\":0, \"green\":0}\n",
    "        ballcounts = sec.split(\",\")\n",
    "        ballcounts = [ii.strip() for ii in ballcounts]        \n",
    "        for ballcount in ballcounts:\n",
    "            number, color = ballcount.split()\n",
    "            col_dict[color] = int(number)\n",
    "            if int(number) > minimums[color]:\n",
    "                minimums[color] = int(number)       \n",
    "    \n",
    "    power_min = minimums[\"red\"] * minimums[\"blue\"] * minimums[\"green\"]\n",
    "    sum_ids += power_min\n",
    "print(sum_ids)\n",
    "            "
   ]
  }
 ],
 "metadata": {
  "kernelspec": {
   "display_name": ".venv",
   "language": "python",
   "name": "python3"
  },
  "language_info": {
   "codemirror_mode": {
    "name": "ipython",
    "version": 3
   },
   "file_extension": ".py",
   "mimetype": "text/x-python",
   "name": "python",
   "nbconvert_exporter": "python",
   "pygments_lexer": "ipython3",
   "version": "3.11.9"
  }
 },
 "nbformat": 4,
 "nbformat_minor": 2
}
